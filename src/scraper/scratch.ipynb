{
 "cells": [
  {
   "cell_type": "code",
   "execution_count": 1,
   "metadata": {},
   "outputs": [],
   "source": [
    "import pandas as pd\n",
    "import numpy as np\n",
    "import sys\n",
    "import os\n",
    "import importlib as imp\n",
    "import logging\n",
    "logger = logging.getLogger(__name__)\n",
    "\n",
    "\n",
    "from selenium import webdriver\n",
    "from selenium.webdriver.common.keys import Keys\n",
    "import time"
   ]
  },
  {
   "cell_type": "code",
   "execution_count": 14,
   "metadata": {},
   "outputs": [],
   "source": [
    "sys.path.append( '../')\n",
    "import config as cfg_glb\n",
    "\n",
    "sys.path.append( '../scraper')\n",
    "import scraper_main as scrp\n",
    "import util_scr as hlp\n"
   ]
  },
  {
   "cell_type": "code",
   "execution_count": 3,
   "metadata": {},
   "outputs": [],
   "source": [
    "webScrpr = scrp.WebScraper()"
   ]
  },
  {
   "cell_type": "code",
   "execution_count": 30,
   "metadata": {},
   "outputs": [],
   "source": [
    "# imp.reload( scrp )\n",
    "webScrpr.opn_webPg( webPg=cfg_glb.URL_MASTER )"
   ]
  },
  {
   "cell_type": "code",
   "execution_count": 5,
   "metadata": {},
   "outputs": [],
   "source": [
    "# xpath for links to bosxcores in URL_MASTER screen of website\n",
    "xp_boxscores = '//*[@id=\"content\"]/div[4]//a[contains(@href,\"boxscores\")]'\n",
    "xp_weekLinks = '//*[@id=\"div_week_games\"]/div/div'\n",
    "\n",
    "# xpath for links to game stats/info\n",
    "xp_hmTeam = '//*[@id=\"content\"]/div[2]/div[1]/div[1]/strong/a'\n",
    "xp_awayTeam = '//*[@id=\"content\"]/div[2]/div[2]/div[1]/strong/a'"
   ]
  },
  {
   "cell_type": "code",
   "execution_count": 6,
   "metadata": {
    "scrolled": true
   },
   "outputs": [],
   "source": [
    "# # imp.reload( scrp )\n",
    "# weeks_in_season = webScrpr.text_by_xpath( xp_weekLinks )\n",
    "# weeks_in_season"
   ]
  },
  {
   "cell_type": "code",
   "execution_count": 7,
   "metadata": {
    "scrolled": true
   },
   "outputs": [],
   "source": [
    "# # imp.reload( scrp )\n",
    "# bscrs = webScrpr.htmls_by_xpath( xp_boxscores )\n",
    "# bscrs"
   ]
  },
  {
   "cell_type": "code",
   "execution_count": 12,
   "metadata": {},
   "outputs": [
    {
     "name": "stdout",
     "output_type": "stream",
     "text": [
      "1 dog\n",
      "2 cat\n",
      "3 bird\n"
     ]
    }
   ],
   "source": [
    "l = ['dog', 'cat', 'bird']\n",
    "for k,v in enumerate( l ):\n",
    "    print( k+1, v )"
   ]
  },
  {
   "cell_type": "code",
   "execution_count": 31,
   "metadata": {},
   "outputs": [],
   "source": [
    "stats_dict={}\n",
    "for season in cfg_glb.SEASONS[:2]:\n",
    "    \n",
    "    hlp.build_stats_dict( stats_dict, season )\n",
    "    weeks_in_season = webScrpr.text_by_xpath( xp_weekLinks )\n",
    "    \n",
    "    wk=0\n",
    "    for week in weeks_in_season[:2]:\n",
    "        \n",
    "        webScrpr.opn_webPg( 'https://www.pro-football-reference.com/years/{}/week_{}.htm'.format( season, wk+1 ) )\n",
    "        hlp.build_stats_dict( stats_dict[ season ], week )\n",
    "        bscrs = webScrpr.htmls_by_xpath( xp_boxscores )\n",
    "        wk+=1\n",
    "        \n",
    "        for key, game in enumerate( bscrs[:2] ):\n",
    "            \n",
    "            hlp.build_stats_dict( stats_dict[ season ][ week ], 'Game '+str( key+1 ) )\n",
    "            webScrpr.opn_webPg( game )\n",
    "            \n",
    "            for tbl in [ 'gameInfo', 'prr', 'def' ]:\n",
    "                \n",
    "                hlp.build_stats_dict( stats_dict[ season ][ week ][ 'Game '+str( key+1 ) ], tbl )\n",
    "                \n",
    "                if tbl == 'prr' or tbl == 'def':\n",
    "                    \n",
    "                    hlp.build_stats_dict( stats_dict[ season ][ week ][ 'Game '+str( key+1 ) ][ tbl ], 'player' )\n",
    "        \n",
    "        \n",
    "                    \n",
    "                \n",
    "            \n",
    "                \n",
    "                "
   ]
  },
  {
   "cell_type": "code",
   "execution_count": 32,
   "metadata": {},
   "outputs": [
    {
     "data": {
      "text/plain": [
       "{2011: {'Week 1': {'Game 1': {'gameInfo': {},\n",
       "    'prr': {'player': {}},\n",
       "    'def': {'player': {}}},\n",
       "   'Game 2': {'gameInfo': {}, 'prr': {'player': {}}, 'def': {'player': {}}}},\n",
       "  'Week 2': {'Game 1': {'gameInfo': {},\n",
       "    'prr': {'player': {}},\n",
       "    'def': {'player': {}}},\n",
       "   'Game 2': {'gameInfo': {}, 'prr': {'player': {}}, 'def': {'player': {}}}}},\n",
       " 2012: {}}"
      ]
     },
     "execution_count": 32,
     "metadata": {},
     "output_type": "execute_result"
    }
   ],
   "source": [
    "stats_dict"
   ]
  },
  {
   "cell_type": "code",
   "execution_count": null,
   "metadata": {},
   "outputs": [],
   "source": [
    "webScrpr.opn_webPg( wk1_bscrs[ 0 ] )"
   ]
  },
  {
   "cell_type": "code",
   "execution_count": null,
   "metadata": {},
   "outputs": [],
   "source": [
    "hmTeam_xp = '//*[@id=\"content\"]/div[2]/div[1]/div[1]/strong/a'"
   ]
  },
  {
   "cell_type": "code",
   "execution_count": null,
   "metadata": {},
   "outputs": [],
   "source": [
    "webScrpr.text_by_xpath( xp_awayTeam )"
   ]
  },
  {
   "cell_type": "code",
   "execution_count": null,
   "metadata": {},
   "outputs": [],
   "source": []
  },
  {
   "cell_type": "code",
   "execution_count": null,
   "metadata": {},
   "outputs": [],
   "source": []
  },
  {
   "cell_type": "code",
   "execution_count": null,
   "metadata": {},
   "outputs": [],
   "source": []
  },
  {
   "cell_type": "code",
   "execution_count": null,
   "metadata": {},
   "outputs": [],
   "source": []
  },
  {
   "cell_type": "code",
   "execution_count": null,
   "metadata": {},
   "outputs": [],
   "source": []
  },
  {
   "cell_type": "code",
   "execution_count": null,
   "metadata": {},
   "outputs": [],
   "source": []
  },
  {
   "cell_type": "code",
   "execution_count": null,
   "metadata": {},
   "outputs": [],
   "source": []
  },
  {
   "cell_type": "code",
   "execution_count": null,
   "metadata": {},
   "outputs": [],
   "source": []
  },
  {
   "cell_type": "code",
   "execution_count": null,
   "metadata": {},
   "outputs": [],
   "source": []
  },
  {
   "cell_type": "code",
   "execution_count": null,
   "metadata": {},
   "outputs": [],
   "source": []
  },
  {
   "cell_type": "code",
   "execution_count": null,
   "metadata": {},
   "outputs": [],
   "source": []
  },
  {
   "cell_type": "code",
   "execution_count": null,
   "metadata": {},
   "outputs": [],
   "source": []
  },
  {
   "cell_type": "code",
   "execution_count": null,
   "metadata": {},
   "outputs": [],
   "source": []
  },
  {
   "cell_type": "code",
   "execution_count": null,
   "metadata": {},
   "outputs": [],
   "source": [
    " driver.quit()"
   ]
  },
  {
   "cell_type": "code",
   "execution_count": null,
   "metadata": {},
   "outputs": [],
   "source": []
  },
  {
   "cell_type": "markdown",
   "metadata": {},
   "source": [
    "#  %%%%% SCRATCH %%%%%%%"
   ]
  },
  {
   "cell_type": "code",
   "execution_count": null,
   "metadata": {},
   "outputs": [],
   "source": [
    "driver = webdriver.Chrome()\n",
    "\n",
    "# use nested for loop to loop through games\n",
    "driver.get( 'https://www.pro-football-reference.com/years/{}/week_{}.htm'.format( 2014, 1 ) )\n",
    "\n",
    "xp_games = driver.find_elements_by_xpath('//*[@id=\"content\"]/div[4]//a[contains(@href,\"boxscores\")]')\n",
    "# links_games[0].send_keys( Keys.RETURN )\n",
    "\n",
    "lst_games = []\n",
    "for xp in xp_games[ :3 ]:\n",
    "    \n",
    "    lst_games.append( xp.get_attribute( 'href' ) )\n",
    "    \n",
    "print( lst_games )\n",
    "    \n",
    "i=0\n",
    "for game in lst_games:\n",
    "    \n",
    "    driver.get( lst_games[ i ] )\n",
    "#     print( lst_games[ i ], ': DONE' )\n",
    "    \n",
    "    i+=1\n",
    "    \n",
    "time.sleep(5)\n",
    "\n",
    "driver.quit()"
   ]
  },
  {
   "cell_type": "code",
   "execution_count": null,
   "metadata": {},
   "outputs": [],
   "source": [
    "import os\n",
    "os.getcwd()"
   ]
  },
  {
   "cell_type": "code",
   "execution_count": null,
   "metadata": {},
   "outputs": [],
   "source": [
    "cfg.SEASON_END"
   ]
  },
  {
   "cell_type": "code",
   "execution_count": null,
   "metadata": {},
   "outputs": [],
   "source": [
    "hlp."
   ]
  },
  {
   "cell_type": "markdown",
   "metadata": {},
   "source": [
    "### Dictionary Manipulation"
   ]
  },
  {
   "cell_type": "code",
   "execution_count": null,
   "metadata": {},
   "outputs": [],
   "source": [
    "def build_stats_dict( name_dict, key ):\n",
    "\n",
    "    try:\n",
    "\n",
    "        name_dict[ key ]\n",
    "\n",
    "    except:\n",
    "\n",
    "        name_dict[ key ] = {}    \n",
    "    \n",
    "    return name_dict"
   ]
  },
  {
   "cell_type": "code",
   "execution_count": null,
   "metadata": {},
   "outputs": [],
   "source": [
    "stats_dict={}"
   ]
  },
  {
   "cell_type": "code",
   "execution_count": null,
   "metadata": {},
   "outputs": [],
   "source": [
    "for key in stats_dict:\n",
    "\n",
    "    try: \n",
    "        stats_dict[ key ]\n",
    "\n",
    "    except:\n",
    "\n",
    "        stats_dict[ key ]={}\n",
    "    \n",
    "\n"
   ]
  },
  {
   "cell_type": "code",
   "execution_count": null,
   "metadata": {},
   "outputs": [],
   "source": [
    "stats_dict"
   ]
  },
  {
   "cell_type": "code",
   "execution_count": null,
   "metadata": {
    "scrolled": true
   },
   "outputs": [],
   "source": [
    "stats_dict['2011']= {}"
   ]
  },
  {
   "cell_type": "code",
   "execution_count": null,
   "metadata": {},
   "outputs": [],
   "source": [
    "stats_dict.update( stats_dict['2011']['Week 1']['Game 1']={'PRR': {} } )"
   ]
  }
 ],
 "metadata": {
  "kernelspec": {
   "display_name": "Python 3",
   "language": "python",
   "name": "python3"
  },
  "language_info": {
   "codemirror_mode": {
    "name": "ipython",
    "version": 3
   },
   "file_extension": ".py",
   "mimetype": "text/x-python",
   "name": "python",
   "nbconvert_exporter": "python",
   "pygments_lexer": "ipython3",
   "version": "3.7.6"
  }
 },
 "nbformat": 4,
 "nbformat_minor": 4
}
