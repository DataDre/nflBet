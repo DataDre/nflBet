{
 "cells": [
  {
   "cell_type": "code",
   "execution_count": 1,
   "metadata": {},
   "outputs": [],
   "source": [
    "import pandas as pd\n",
    "import numpy as np\n",
    "import sys\n",
    "import os\n",
    "import importlib as imp\n",
    "from collections import defaultdict\n",
    "import logging\n",
    "logger = logging.getLogger(__name__)\n",
    "\n",
    "\n",
    "from selenium import webdriver\n",
    "from selenium.webdriver.common.keys import Keys\n",
    "import time"
   ]
  },
  {
   "cell_type": "code",
   "execution_count": 2,
   "metadata": {},
   "outputs": [],
   "source": [
    "sys.path.append( '../')\n",
    "import config as cfg_glb\n",
    "\n",
    "sys.path.append( '../scraper')\n",
    "import scraper_main as scrp\n",
    "import util_scr as hlp\n"
   ]
  },
  {
   "cell_type": "code",
   "execution_count": 3,
   "metadata": {},
   "outputs": [],
   "source": [
    "webScrpr = scrp.WebScraper()"
   ]
  },
  {
   "cell_type": "code",
   "execution_count": 4,
   "metadata": {},
   "outputs": [],
   "source": [
    "# xpath for links to bosxcores in URL_MASTER screen of website\n",
    "xp_boxscores = '//*[@id=\"content\"]/div[4]//a[contains(@href,\"boxscores\")]'\n",
    "xp_weekLinks = '//*[@id=\"div_week_games\"]/div/div'\n",
    "\n",
    "# xpath for links to game stats/info\n",
    "xp_hmTeam = '//*[@id=\"content\"]/div[2]/div[1]/div[1]/strong/a'\n",
    "xp_awayTeam = '//*[@id=\"content\"]/div[2]/div[2]/div[1]/strong/a'\n",
    "\n",
    "# xpaths for game info table\n",
    "xp_kGI = '//*[@id=\"game_info\"]/tbody//tr/th'\n",
    "xp_vGI = '//*[@id=\"game_info\"]/tbody//tr/td'\n",
    "    \n",
    "#xpath for players in tables\n",
    "xp_ps_off = '//*[@id=\"player_offense\"]/tbody//tr//th[@data-stat=\"player\"]'\n",
    "xp_ps_def = '//*[@id=\"player_defense\"]/tbody//tr//th[@data-stat=\"player\"]'\n",
    "xp_ps_st = '//*[@id=\"returns\" or @id=\"kicking\"]/tbody/tr//th[@data-stat=\"player\"]//a'\n"
   ]
  },
  {
   "cell_type": "code",
   "execution_count": 5,
   "metadata": {},
   "outputs": [],
   "source": [
    "stats_dict = hlp.build_stats_shell( )"
   ]
  },
  {
   "cell_type": "code",
   "execution_count": 6,
   "metadata": {},
   "outputs": [],
   "source": [
    "webScrpr.opn_webPg( 'https://www.pro-football-reference.com/boxscores/201109080gnb.htm' )"
   ]
  },
  {
   "cell_type": "code",
   "execution_count": 7,
   "metadata": {},
   "outputs": [],
   "source": [
    "root_pg_path='https://www.pro-football-reference.com/years/'\n",
    "\n",
    "for season in cfg_glb.SEASONS[:2]:\n",
    "    \n",
    "    weeks = webScrpr.text_by_xpath( xp_weekLinks )\n",
    "    \n",
    "    for i in range( 1, 3 ):#( 1, len( weeks )+1 ):\n",
    "    \n",
    "        webScrpr.opn_webPg( root_pg_path+'{}/week_{}.htm'.format( season, i ) )\n",
    "        bscr_links = webScrpr.htmls_by_xpath( xp_boxscores )\n",
    "        \n",
    "        game_num=1\n",
    "        for link in bscr_links[:2]:\n",
    "            \n",
    "            webScrpr.opn_webPg( link )\n",
    "            \n",
    "            stats_dict[ season ][ cfg_glb.WEEKS_LBL[ i ] ][ 'Game '+str( game_num ) ][ 'gameInfo' ] = hlp.make_tbl_dict( \n",
    "                                                                                                            driver=webScrpr, \n",
    "                                                                                                            xp_k=xp_kGI, \n",
    "                                                                                                            xp_v=xp_vGI \n",
    "                                                                                                            )\n",
    "            game_num+=1\n",
    "            \n",
    "            \n",
    "    \n",
    "    "
   ]
  },
  {
   "cell_type": "code",
   "execution_count": 10,
   "metadata": {
    "scrolled": true
   },
   "outputs": [
    {
     "data": {
      "text/plain": [
       "{'gameInfo': {'Won Toss': 'Colts (deferred)',\n",
       "  'Roof': 'outdoors',\n",
       "  'Surface': 'grass',\n",
       "  'Duration': '3:25',\n",
       "  'Attendance': '62,341',\n",
       "  'Weather': '67 degrees, relative humidity 66%, wind 13 mph, wind chill 0',\n",
       "  'Vegas Line': 'Chicago Bears -10.0',\n",
       "  'Over/Under': '42.5 (over)'},\n",
       " 'prr': {},\n",
       " 'def': {},\n",
       " 'st': {},\n",
       " 'prr_adv': {},\n",
       " 'def_adv': {}}"
      ]
     },
     "execution_count": 10,
     "metadata": {},
     "output_type": "execute_result"
    }
   ],
   "source": [
    "stats_dict[ 2012 ][ 'Week 1' ][ 'Game 2']"
   ]
  },
  {
   "cell_type": "code",
   "execution_count": null,
   "metadata": {},
   "outputs": [],
   "source": [
    "test_d1 = stats_dict\n",
    "\n",
    "test_d2 = hlp.scrape_data( d=test_d1, driver=webScrpr, xp_k=xp_kGI, xp_v=xp_vGI )\n",
    "\n",
    "test_d2"
   ]
  },
  {
   "cell_type": "code",
   "execution_count": null,
   "metadata": {},
   "outputs": [],
   "source": [
    "hlp.make_tbl_dict( driver=webScrpr, xp_k=xp_kGI, xp_v=xp_vGI )"
   ]
  },
  {
   "cell_type": "code",
   "execution_count": null,
   "metadata": {},
   "outputs": [],
   "source": [
    "any(key.startswith('Game') for key in stats_dict[ 2011 ][ 'Week 1' ])"
   ]
  },
  {
   "cell_type": "code",
   "execution_count": null,
   "metadata": {},
   "outputs": [],
   "source": [
    "for k,v in stats_dict.items():\n",
    "        \n",
    "        if \"Game\" in k:\n",
    "            \n",
    "            print( k )\n",
    "        \n",
    "        else:\n",
    "            \n",
    "            print('no')"
   ]
  },
  {
   "cell_type": "code",
   "execution_count": null,
   "metadata": {},
   "outputs": [],
   "source": [
    "xp_ps_off = '//*[@id=\"player_offense\"]/tbody//tr//th[@data-stat=\"player\"]'\n",
    "xp_ps_def = '//*[@id=\"player_defense\"]/tbody//tr//th[@data-stat=\"player\"]'\n",
    "xp_ps_st = '//*[@id=\"returns\" or @id=\"kicking\"]/tbody/tr//th[@data-stat=\"player\"]//a'\n",
    "\n",
    "webScrpr.text_by_xpath( xp_ps_st )"
   ]
  },
  {
   "cell_type": "code",
   "execution_count": null,
   "metadata": {},
   "outputs": [],
   "source": [
    "efg=defaultdict(dict)"
   ]
  },
  {
   "cell_type": "code",
   "execution_count": null,
   "metadata": {},
   "outputs": [],
   "source": [
    "efg"
   ]
  },
  {
   "cell_type": "code",
   "execution_count": null,
   "metadata": {},
   "outputs": [],
   "source": []
  },
  {
   "cell_type": "code",
   "execution_count": null,
   "metadata": {},
   "outputs": [],
   "source": []
  },
  {
   "cell_type": "code",
   "execution_count": null,
   "metadata": {},
   "outputs": [],
   "source": []
  },
  {
   "cell_type": "code",
   "execution_count": null,
   "metadata": {},
   "outputs": [],
   "source": []
  },
  {
   "cell_type": "code",
   "execution_count": null,
   "metadata": {},
   "outputs": [],
   "source": []
  },
  {
   "cell_type": "code",
   "execution_count": null,
   "metadata": {},
   "outputs": [],
   "source": []
  },
  {
   "cell_type": "code",
   "execution_count": null,
   "metadata": {},
   "outputs": [],
   "source": []
  },
  {
   "cell_type": "code",
   "execution_count": null,
   "metadata": {},
   "outputs": [],
   "source": []
  },
  {
   "cell_type": "code",
   "execution_count": null,
   "metadata": {},
   "outputs": [],
   "source": []
  },
  {
   "cell_type": "code",
   "execution_count": null,
   "metadata": {},
   "outputs": [],
   "source": [
    " webScrpr.quit()"
   ]
  },
  {
   "cell_type": "code",
   "execution_count": null,
   "metadata": {},
   "outputs": [],
   "source": []
  },
  {
   "cell_type": "markdown",
   "metadata": {},
   "source": [
    "#  %%%%% SCRATCH %%%%%%%"
   ]
  },
  {
   "cell_type": "code",
   "execution_count": null,
   "metadata": {},
   "outputs": [],
   "source": [
    "driver = webdriver.Chrome()\n",
    "\n",
    "# use nested for loop to loop through games\n",
    "driver.get( 'https://www.pro-football-reference.com/years/{}/week_{}.htm'.format( 2014, 1 ) )\n",
    "\n",
    "xp_games = driver.find_elements_by_xpath('//*[@id=\"content\"]/div[4]//a[contains(@href,\"boxscores\")]')\n",
    "# links_games[0].send_keys( Keys.RETURN )\n",
    "\n",
    "lst_games = []\n",
    "for xp in xp_games[ :3 ]:\n",
    "    \n",
    "    lst_games.append( xp.get_attribute( 'href' ) )\n",
    "    \n",
    "print( lst_games )\n",
    "    \n",
    "i=0\n",
    "for game in lst_games:\n",
    "    \n",
    "    driver.get( lst_games[ i ] )\n",
    "#     print( lst_games[ i ], ': DONE' )\n",
    "    \n",
    "    i+=1\n",
    "    \n",
    "time.sleep(5)\n",
    "\n",
    "driver.quit()"
   ]
  },
  {
   "cell_type": "code",
   "execution_count": null,
   "metadata": {},
   "outputs": [],
   "source": [
    "import os\n",
    "os.getcwd()"
   ]
  },
  {
   "cell_type": "code",
   "execution_count": null,
   "metadata": {},
   "outputs": [],
   "source": [
    "cfg.SEASON_END"
   ]
  },
  {
   "cell_type": "code",
   "execution_count": null,
   "metadata": {},
   "outputs": [],
   "source": [
    "hlp."
   ]
  },
  {
   "cell_type": "code",
   "execution_count": null,
   "metadata": {
    "scrolled": true
   },
   "outputs": [],
   "source": [
    "# # imp.reload( scrp )\n",
    "# weeks_in_season = webScrpr.text_by_xpath( xp_weekLinks )\n",
    "# weeks_in_season"
   ]
  },
  {
   "cell_type": "code",
   "execution_count": null,
   "metadata": {
    "scrolled": true
   },
   "outputs": [],
   "source": [
    "# # imp.reload( scrp )\n",
    "# bscrs = webScrpr.htmls_by_xpath( xp_boxscores )\n",
    "# bscrs"
   ]
  },
  {
   "cell_type": "code",
   "execution_count": null,
   "metadata": {},
   "outputs": [],
   "source": [
    "l = ['dog', 'cat', 'bird']\n",
    "for k,v in enumerate( l ):\n",
    "    print( k+1, v )"
   ]
  },
  {
   "cell_type": "code",
   "execution_count": null,
   "metadata": {},
   "outputs": [],
   "source": [
    "# imp.reload( scrp )\n",
    "webScrpr.opn_webPg( webPg=cfg_glb.URL_MASTER )"
   ]
  },
  {
   "cell_type": "markdown",
   "metadata": {},
   "source": [
    "### Dictionary Manipulation"
   ]
  },
  {
   "cell_type": "code",
   "execution_count": null,
   "metadata": {},
   "outputs": [],
   "source": [
    "def build_stats_dict( name_dict, key ):\n",
    "\n",
    "    try:\n",
    "\n",
    "        name_dict[ key ]\n",
    "\n",
    "    except:\n",
    "\n",
    "        name_dict[ key ] = {}    \n",
    "    \n",
    "    return name_dict"
   ]
  },
  {
   "cell_type": "code",
   "execution_count": null,
   "metadata": {},
   "outputs": [],
   "source": [
    "stats_dict={}"
   ]
  },
  {
   "cell_type": "code",
   "execution_count": null,
   "metadata": {},
   "outputs": [],
   "source": [
    "for key in stats_dict:\n",
    "\n",
    "    try: \n",
    "        stats_dict[ key ]\n",
    "\n",
    "    except:\n",
    "\n",
    "        stats_dict[ key ]={}\n",
    "    \n",
    "\n"
   ]
  },
  {
   "cell_type": "code",
   "execution_count": null,
   "metadata": {},
   "outputs": [],
   "source": [
    "stats_dict"
   ]
  },
  {
   "cell_type": "code",
   "execution_count": null,
   "metadata": {
    "scrolled": true
   },
   "outputs": [],
   "source": [
    "stats_dict['2011']= {}"
   ]
  },
  {
   "cell_type": "code",
   "execution_count": null,
   "metadata": {},
   "outputs": [],
   "source": [
    "stats_dict.update( stats_dict['2011']['Week 1']['Game 1']={'PRR': {} } )"
   ]
  },
  {
   "cell_type": "code",
   "execution_count": null,
   "metadata": {},
   "outputs": [],
   "source": [
    "def fun( **lvl_1 ):\n",
    "    \n",
    "    for k,v in lvl_1.items():\n",
    "        \n",
    "        print( '{}'.format( type( v ) ) )\n",
    "        \n",
    "#         yield v\n",
    "    \n",
    "test = fun(season=[1,2,3], weeks=[4,5,6])"
   ]
  },
  {
   "cell_type": "code",
   "execution_count": null,
   "metadata": {},
   "outputs": [],
   "source": [
    "print( len( list ( test ) ) )"
   ]
  },
  {
   "cell_type": "code",
   "execution_count": null,
   "metadata": {},
   "outputs": [],
   "source": [
    "def stats_shell_dict( d, **lvl1_keys ):\t\t\t\t\n",
    "\n",
    "\tif isinstance( d, dict ):\n",
    "\n",
    "\t\tfor k,v in lvl1_keys.items():\n",
    "            \n",
    "            if isinstance( v, list ):\n",
    "                \n",
    "                for key in v:\n",
    "                \n",
    "                    try:\n",
    "                        d[ key ]\n",
    "\n",
    "                    except:\n",
    "                        d[ key ] = {}\n",
    "\n",
    "\t\t\telse:\n",
    "                \n",
    "                try: \n",
    "                    d[ v ]\n",
    "                \n",
    "                except:\n",
    "                    d[ v ] = {}\n",
    "\n",
    "        return d\n",
    "\n",
    "\telse: \n",
    "\t\td={}\n",
    "\t\tstats_shell_dict( d, **lvl1_keys ) "
   ]
  },
  {
   "cell_type": "code",
   "execution_count": null,
   "metadata": {},
   "outputs": [],
   "source": [
    "d[2019]['Divisional'].keys()"
   ]
  },
  {
   "cell_type": "code",
   "execution_count": null,
   "metadata": {},
   "outputs": [],
   "source": [
    "WEEKS_LBL = {\n",
    "\t 0: 'Week 1',\n",
    "\t 1: 'Week 2',\n",
    "\t 2: 'Week 3',\n",
    "\t 3: 'Week 4',\n",
    "\t 4: 'Week 5',\n",
    "\t 5: 'Week 6',\n",
    "\t 6: 'Week 7',\n",
    "\t 7: 'Week 8',\n",
    "\t 8: 'Week 9',\n",
    "\t 9: 'Week 10',\n",
    "\t 10: 'Week 11',\n",
    "\t 11: 'Week 12',\n",
    "\t 12: 'Week 13',\n",
    "\t 13: 'Week 14',\n",
    "\t 14: 'Week 15',\n",
    "\t 15: 'Week 16',\n",
    "\t 16: 'Week 17',\n",
    "\t 17: 'Wild Card',\n",
    "\t 18: 'Divisional',\n",
    "\t 19: 'Conf Champ',\n",
    "\t 20: 'Super Bowl'\n",
    " }"
   ]
  },
  {
   "cell_type": "code",
   "execution_count": null,
   "metadata": {},
   "outputs": [],
   "source": [
    "from collections import defaultdict\n",
    "\n",
    "def make_stats_shell( d=defaultdict( dict ), **kwargs ):\n",
    "    \n",
    "    for k,v in kwargs.items():\n",
    "        \n",
    "        if isinstance( v, list ):\n",
    "            \n",
    "            for el in v:\n",
    "                \n",
    "                d[ el ]\n",
    "                temp_lst.append( el )\n",
    "    \n",
    "    return d"
   ]
  },
  {
   "cell_type": "code",
   "execution_count": null,
   "metadata": {},
   "outputs": [],
   "source": [
    "d={}\n",
    "\n",
    "def build_stats_shell( d, **kwargs ):\n",
    "    \n",
    "    for k,v in d.items():\n",
    "#         print( 'starting')\n",
    "        if isinstance( v, dict ):\n",
    "            \n",
    "            build_stats_shell( v )\n",
    "    \n",
    "    return d\n",
    "        \n",
    "build_stats_shell( d, seasons=[2011, 2012, 2013] )"
   ]
  },
  {
   "cell_type": "code",
   "execution_count": null,
   "metadata": {},
   "outputs": [],
   "source": [
    "d=defaultdict( dict )\n",
    "for k,v in d.items():\n",
    "    if isinstance( v, dict ):\n",
    "        print('yes')\n",
    "    else: \n",
    "        print('no')"
   ]
  },
  {
   "cell_type": "code",
   "execution_count": null,
   "metadata": {},
   "outputs": [],
   "source": [
    "d.items()"
   ]
  },
  {
   "cell_type": "code",
   "execution_count": null,
   "metadata": {},
   "outputs": [],
   "source": [
    "for k,v in d.items():\n",
    "    \n",
    "    for week in [ 'Week 1', 'Week 2' ]:\n",
    "        \n",
    "        v.setdefault( week, {} )"
   ]
  },
  {
   "cell_type": "code",
   "execution_count": null,
   "metadata": {},
   "outputs": [],
   "source": [
    "d.items()"
   ]
  },
  {
   "cell_type": "code",
   "execution_count": null,
   "metadata": {},
   "outputs": [],
   "source": [
    "d = defaultdict( dict )\n",
    "d['dog']['cat']['bird']"
   ]
  },
  {
   "cell_type": "code",
   "execution_count": null,
   "metadata": {},
   "outputs": [],
   "source": []
  }
 ],
 "metadata": {
  "kernelspec": {
   "display_name": "Python 3",
   "language": "python",
   "name": "python3"
  },
  "language_info": {
   "codemirror_mode": {
    "name": "ipython",
    "version": 3
   },
   "file_extension": ".py",
   "mimetype": "text/x-python",
   "name": "python",
   "nbconvert_exporter": "python",
   "pygments_lexer": "ipython3",
   "version": "3.7.6"
  }
 },
 "nbformat": 4,
 "nbformat_minor": 4
}
