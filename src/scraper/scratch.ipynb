{
 "cells": [
  {
   "cell_type": "code",
   "execution_count": 1,
   "metadata": {},
   "outputs": [],
   "source": [
    "import pandas as pd\n",
    "import numpy as np\n",
    "import sys\n",
    "import os\n",
    "import importlib as imp\n",
    "from collections import defaultdict, abc\n",
    "import logging\n",
    "logger = logging.getLogger(__name__)\n",
    "\n",
    "\n",
    "\n",
    "from selenium import webdriver\n",
    "from selenium.webdriver.common.keys import Keys\n",
    "import time"
   ]
  },
  {
   "cell_type": "code",
   "execution_count": 2,
   "metadata": {},
   "outputs": [],
   "source": [
    "sys.path.append( '../')\n",
    "import config as cfg_glb\n",
    "\n",
    "sys.path.append( '../scraper')\n",
    "import scraper_main as scrp\n",
    "import util_scr as hlp\n"
   ]
  },
  {
   "cell_type": "code",
   "execution_count": 78,
   "metadata": {},
   "outputs": [],
   "source": [
    "imp.reload( scrp )\n",
    "webScrpr = scrp.WebScraper()\n",
    "# webScrpr.opn_webPg( cfg_glb.URL_MASTER )"
   ]
  },
  {
   "cell_type": "code",
   "execution_count": 4,
   "metadata": {},
   "outputs": [],
   "source": [
    "# xpath for links to bosxcores in URL_MASTER screen of website\n",
    "xp_seasons = '//*[@id=\"years\"]/tbody//tr//th//a'\n",
    "xp_boxscores = '//*[@id=\"content\"]/div[4]//a[contains(@href,\"boxscores\")]'\n",
    "xp_weekLinks = '//*[@id=\"div_week_games\"]//a'\n",
    "\n",
    "# xpath for links to game stats/info\n",
    "xp_hmTeam = '//*[@id=\"content\"]/div[2]/div[1]/div[1]/strong/a'\n",
    "xp_awayTeam = '//*[@id=\"content\"]/div[2]/div[2]/div[1]/strong/a'\n",
    "\n",
    "# xpaths for game info table\n",
    "xp_kGI = '//*[@id=\"game_info\"]/tbody//tr/th'\n",
    "xp_vGI = '//*[@id=\"game_info\"]/tbody//tr/td'\n",
    "    \n",
    "#xpath for players in tables\n",
    "xp_ps_off = '//*[@id=\"player_offense\"]/tbody//tr//th[@data-stat=\"player\"]'\n",
    "xp_ps_def = '//*[@id=\"player_defense\"]/tbody//tr//th[@data-stat=\"player\"]'\n",
    "xp_ps_st = '//*[@id=\"returns\" or @id=\"kicking\"]/tbody/tr//th[@data-stat=\"player\"]//a'\n"
   ]
  },
  {
   "cell_type": "code",
   "execution_count": 5,
   "metadata": {},
   "outputs": [],
   "source": [
    "# imp.reload( hlp )\n",
    "# imp.reload( cfg_glb )\n",
    "stats_dict = hlp.build_stats_shell( )"
   ]
  },
  {
   "cell_type": "code",
   "execution_count": 6,
   "metadata": {},
   "outputs": [],
   "source": [
    "# imp.reload( hlp )\n",
    "\n",
    "links_dict = hlp.scrape_data_links( \n",
    "    driver=webScrpr, \n",
    "    xp_sns=xp_seasons,\n",
    "    xp_wks_in_sn=xp_weekLinks, \n",
    "    xp_gms_in_wk=xp_boxscores, \n",
    "    tst_toggle=2 \n",
    ")"
   ]
  },
  {
   "cell_type": "code",
   "execution_count": 12,
   "metadata": {},
   "outputs": [],
   "source": [
    "# imp.reload( hlp )\n",
    "stats_dict = hlp.add_to_nested_key( source_d=stats_dict, info_d=links_dict )"
   ]
  },
  {
   "cell_type": "code",
   "execution_count": 15,
   "metadata": {},
   "outputs": [
    {
     "name": "stdout",
     "output_type": "stream",
     "text": [
      "{'prr': {}, 'link': 'https://www.pro-football-reference.com/boxscores/201209160car.htm'}\n",
      "\n",
      "\n",
      "{'link': 'https://www.pro-football-reference.com/boxscores/201209160car.htm'}\n"
     ]
    }
   ],
   "source": [
    "print( stats_dict['2012']['Week 2']['Game 6'] )\n",
    "print('\\n')\n",
    "print( links_dict['2012']['Week 2']['Game 6'] )"
   ]
  },
  {
   "cell_type": "markdown",
   "metadata": {},
   "source": [
    "### Use this philosophy to scrape data tables\n",
    " Don't need to build stats table i don't think"
   ]
  },
  {
   "cell_type": "code",
   "execution_count": 14,
   "metadata": {},
   "outputs": [],
   "source": [
    "stats_dict['2012']['Week 2']['Game 6'].update( {'prr': {} } )"
   ]
  },
  {
   "cell_type": "code",
   "execution_count": 29,
   "metadata": {},
   "outputs": [],
   "source": [
    "links_dict['2012']['Week 2']['Game 6'].update( {'prr': {} } )"
   ]
  },
  {
   "cell_type": "code",
   "execution_count": 58,
   "metadata": {},
   "outputs": [
    {
     "data": {
      "text/plain": [
       "{'link': 'https://www.pro-football-reference.com/boxscores/201209160car.htm',\n",
       " 'prr': {}}"
      ]
     },
     "execution_count": 58,
     "metadata": {},
     "output_type": "execute_result"
    }
   ],
   "source": [
    "links_dict['2012']['Week 2']['Game 6']"
   ]
  },
  {
   "cell_type": "code",
   "execution_count": 72,
   "metadata": {},
   "outputs": [],
   "source": [
    "imp.reload( hlp )\n",
    "\n",
    "test_d = hlp.opn_link_by_key( driver=webScrpr, d=links_dict, key='link' )"
   ]
  },
  {
   "cell_type": "code",
   "execution_count": 56,
   "metadata": {},
   "outputs": [],
   "source": [
    "test_d.update( {'table': { 'player': 'stat' } } )"
   ]
  },
  {
   "cell_type": "code",
   "execution_count": 89,
   "metadata": {},
   "outputs": [
    {
     "data": {
      "text/plain": [
       "range(1, 3)"
      ]
     },
     "execution_count": 89,
     "metadata": {},
     "output_type": "execute_result"
    }
   ],
   "source": [
    "range( 1, 10 )[ :2 ]"
   ]
  },
  {
   "cell_type": "code",
   "execution_count": 60,
   "metadata": {},
   "outputs": [],
   "source": [
    "test2 = hlp.add_to_nested_key( links_dict, test_d )"
   ]
  },
  {
   "cell_type": "code",
   "execution_count": 65,
   "metadata": {},
   "outputs": [
    {
     "data": {
      "text/plain": [
       "{'link': 'https://www.pro-football-reference.com/boxscores/201109080gnb.htm',\n",
       " 'table': {'player': 'stat'}}"
      ]
     },
     "execution_count": 65,
     "metadata": {},
     "output_type": "execute_result"
    }
   ],
   "source": [
    "test2['2011']['Week 1']['Game 1']"
   ]
  },
  {
   "cell_type": "code",
   "execution_count": 87,
   "metadata": {},
   "outputs": [
    {
     "data": {
      "text/plain": [
       "True"
      ]
     },
     "execution_count": 87,
     "metadata": {},
     "output_type": "execute_result"
    }
   ],
   "source": [
    "imp.reload( hlp )\n",
    "imp.reload( cfg_glb )\n",
    "imp.reload( scrp )\n",
    "\n",
    "hlp.check_for_tbl( driver=webScrpr, tbl='gameInfo' )"
   ]
  },
  {
   "cell_type": "code",
   "execution_count": 93,
   "metadata": {},
   "outputs": [
    {
     "data": {
      "text/plain": [
       "True"
      ]
     },
     "execution_count": 93,
     "metadata": {},
     "output_type": "execute_result"
    }
   ],
   "source": [
    "webScrpr.check_for_el_by_xp( cfg_glb.TBL_XPS[ 'st_kicking' ] )"
   ]
  },
  {
   "cell_type": "code",
   "execution_count": 85,
   "metadata": {},
   "outputs": [
    {
     "data": {
      "text/plain": [
       "'//*[@id=\"game_info\"]'"
      ]
     },
     "execution_count": 85,
     "metadata": {},
     "output_type": "execute_result"
    }
   ],
   "source": [
    "cfg_glb.TBL_XPS[ 'gameInfo' ]"
   ]
  },
  {
   "cell_type": "code",
   "execution_count": 91,
   "metadata": {},
   "outputs": [
    {
     "data": {
      "text/plain": [
       "{'Won Toss': 'Saints',\n",
       " 'Roof': 'outdoors',\n",
       " 'Surface': 'grass',\n",
       " 'Duration': '3:09',\n",
       " 'Attendance': '72,879',\n",
       " 'Weather': '71 degrees, relative humidity 85%, wind 4 mph, wind chill 0',\n",
       " 'Vegas Line': 'New Orleans Saints -3.0',\n",
       " 'Over/Under': '54.0 (over)'}"
      ]
     },
     "execution_count": 91,
     "metadata": {},
     "output_type": "execute_result"
    }
   ],
   "source": [
    "hlp.make_tbl_dict( driver=webScrpr, xp_k=xp_ps_off, xp_v=xp_ps_ )"
   ]
  },
  {
   "cell_type": "code",
   "execution_count": 94,
   "metadata": {},
   "outputs": [
    {
     "data": {
      "text/plain": [
       "['Drew Brees',\n",
       " 'Pierre Thomas',\n",
       " 'Mark Ingram',\n",
       " 'Darren Sproles',\n",
       " 'Jimmy Graham',\n",
       " 'Marques Colston',\n",
       " 'Lance Moore',\n",
       " 'Courtney Roby',\n",
       " 'Joe Morgan',\n",
       " 'David Thomas',\n",
       " 'Player',\n",
       " 'Cam Newton',\n",
       " 'DeAngelo Williams',\n",
       " 'Jonathan Stewart',\n",
       " 'Brandon LaFell',\n",
       " 'Mike Tolbert',\n",
       " 'Steve Smith',\n",
       " 'Greg Olsen',\n",
       " 'Kealoha Pilares']"
      ]
     },
     "execution_count": 94,
     "metadata": {},
     "output_type": "execute_result"
    }
   ],
   "source": [
    "webScrpr.text_by_xpath( xp_ps_off )"
   ]
  },
  {
   "cell_type": "code",
   "execution_count": null,
   "metadata": {},
   "outputs": [],
   "source": []
  },
  {
   "cell_type": "code",
   "execution_count": null,
   "metadata": {},
   "outputs": [],
   "source": []
  },
  {
   "cell_type": "code",
   "execution_count": 66,
   "metadata": {
    "scrolled": true
   },
   "outputs": [
    {
     "data": {
      "text/plain": [
       "defaultdict(dict,\n",
       "            {'2011': {'Week 1': {'Game 1': {'link': 'https://www.pro-football-reference.com/boxscores/201109080gnb.htm'},\n",
       "               'Game 2': {'link': 'https://www.pro-football-reference.com/boxscores/201109110ram.htm'},\n",
       "               'Game 3': {'link': 'https://www.pro-football-reference.com/boxscores/201109110rav.htm'},\n",
       "               'Game 4': {'link': 'https://www.pro-football-reference.com/boxscores/201109110jax.htm'},\n",
       "               'Game 5': {'link': 'https://www.pro-football-reference.com/boxscores/201109110htx.htm'},\n",
       "               'Game 6': {'link': 'https://www.pro-football-reference.com/boxscores/201109110cle.htm'},\n",
       "               'Game 7': {'link': 'https://www.pro-football-reference.com/boxscores/201109110chi.htm'},\n",
       "               'Game 8': {'link': 'https://www.pro-football-reference.com/boxscores/201109110tam.htm'},\n",
       "               'Game 9': {'link': 'https://www.pro-football-reference.com/boxscores/201109110kan.htm'},\n",
       "               'Game 10': {'link': 'https://www.pro-football-reference.com/boxscores/201109110crd.htm'},\n",
       "               'Game 11': {'link': 'https://www.pro-football-reference.com/boxscores/201109110sdg.htm'},\n",
       "               'Game 12': {'link': 'https://www.pro-football-reference.com/boxscores/201109110sfo.htm'},\n",
       "               'Game 13': {'link': 'https://www.pro-football-reference.com/boxscores/201109110was.htm'},\n",
       "               'Game 14': {'link': 'https://www.pro-football-reference.com/boxscores/201109110nyj.htm'},\n",
       "               'Game 15': {'link': 'https://www.pro-football-reference.com/boxscores/201109120mia.htm'},\n",
       "               'Game 16': {'link': 'https://www.pro-football-reference.com/boxscores/201109120den.htm'}},\n",
       "              'Week 2': {'Game 1': {'link': 'https://www.pro-football-reference.com/boxscores/201109180car.htm'},\n",
       "               'Game 2': {'link': 'https://www.pro-football-reference.com/boxscores/201109180pit.htm'},\n",
       "               'Game 3': {'link': 'https://www.pro-football-reference.com/boxscores/201109180oti.htm'},\n",
       "               'Game 4': {'link': 'https://www.pro-football-reference.com/boxscores/201109180nyj.htm'},\n",
       "               'Game 5': {'link': 'https://www.pro-football-reference.com/boxscores/201109180nor.htm'},\n",
       "               'Game 6': {'link': 'https://www.pro-football-reference.com/boxscores/201109180det.htm'},\n",
       "               'Game 7': {'link': 'https://www.pro-football-reference.com/boxscores/201109180clt.htm'},\n",
       "               'Game 8': {'link': 'https://www.pro-football-reference.com/boxscores/201109180buf.htm'},\n",
       "               'Game 9': {'link': 'https://www.pro-football-reference.com/boxscores/201109180was.htm'},\n",
       "               'Game 10': {'link': 'https://www.pro-football-reference.com/boxscores/201109180min.htm'},\n",
       "               'Game 11': {'link': 'https://www.pro-football-reference.com/boxscores/201109180sfo.htm'},\n",
       "               'Game 12': {'link': 'https://www.pro-football-reference.com/boxscores/201109180nwe.htm'},\n",
       "               'Game 13': {'link': 'https://www.pro-football-reference.com/boxscores/201109180mia.htm'},\n",
       "               'Game 14': {'link': 'https://www.pro-football-reference.com/boxscores/201109180den.htm'},\n",
       "               'Game 15': {'link': 'https://www.pro-football-reference.com/boxscores/201109180atl.htm'},\n",
       "               'Game 16': {'link': 'https://www.pro-football-reference.com/boxscores/201109190nyg.htm'}}},\n",
       "             '2012': {'Week 1': {'Game 1': {'link': 'https://www.pro-football-reference.com/boxscores/201209050nyg.htm'},\n",
       "               'Game 2': {'link': 'https://www.pro-football-reference.com/boxscores/201209090chi.htm'},\n",
       "               'Game 3': {'link': 'https://www.pro-football-reference.com/boxscores/201209090cle.htm'},\n",
       "               'Game 4': {'link': 'https://www.pro-football-reference.com/boxscores/201209090oti.htm'},\n",
       "               'Game 5': {'link': 'https://www.pro-football-reference.com/boxscores/201209090nyj.htm'},\n",
       "               'Game 6': {'link': 'https://www.pro-football-reference.com/boxscores/201209090nor.htm'},\n",
       "               'Game 7': {'link': 'https://www.pro-football-reference.com/boxscores/201209090kan.htm'},\n",
       "               'Game 8': {'link': 'https://www.pro-football-reference.com/boxscores/201209090htx.htm'},\n",
       "               'Game 9': {'link': 'https://www.pro-football-reference.com/boxscores/201209090det.htm'},\n",
       "               'Game 10': {'link': 'https://www.pro-football-reference.com/boxscores/201209090min.htm'},\n",
       "               'Game 11': {'link': 'https://www.pro-football-reference.com/boxscores/201209090gnb.htm'},\n",
       "               'Game 12': {'link': 'https://www.pro-football-reference.com/boxscores/201209090crd.htm'},\n",
       "               'Game 13': {'link': 'https://www.pro-football-reference.com/boxscores/201209090tam.htm'},\n",
       "               'Game 14': {'link': 'https://www.pro-football-reference.com/boxscores/201209090den.htm'},\n",
       "               'Game 15': {'link': 'https://www.pro-football-reference.com/boxscores/201209100rav.htm'},\n",
       "               'Game 16': {'link': 'https://www.pro-football-reference.com/boxscores/201209100rai.htm'}},\n",
       "              'Week 2': {'Game 1': {'link': 'https://www.pro-football-reference.com/boxscores/201209130gnb.htm'},\n",
       "               'Game 2': {'link': 'https://www.pro-football-reference.com/boxscores/201209160buf.htm'},\n",
       "               'Game 3': {'link': 'https://www.pro-football-reference.com/boxscores/201209160nwe.htm'},\n",
       "               'Game 4': {'link': 'https://www.pro-football-reference.com/boxscores/201209160mia.htm'},\n",
       "               'Game 5': {'link': 'https://www.pro-football-reference.com/boxscores/201209160cin.htm'},\n",
       "               'Game 6': {'link': 'https://www.pro-football-reference.com/boxscores/201209160car.htm'},\n",
       "               'Game 7': {'link': 'https://www.pro-football-reference.com/boxscores/201209160phi.htm'},\n",
       "               'Game 8': {'link': 'https://www.pro-football-reference.com/boxscores/201209160nyg.htm'},\n",
       "               'Game 9': {'link': 'https://www.pro-football-reference.com/boxscores/201209160jax.htm'},\n",
       "               'Game 10': {'link': 'https://www.pro-football-reference.com/boxscores/201209160clt.htm'},\n",
       "               'Game 11': {'link': 'https://www.pro-football-reference.com/boxscores/201209160ram.htm'},\n",
       "               'Game 12': {'link': 'https://www.pro-football-reference.com/boxscores/201209160sea.htm'},\n",
       "               'Game 13': {'link': 'https://www.pro-football-reference.com/boxscores/201209160sdg.htm'},\n",
       "               'Game 14': {'link': 'https://www.pro-football-reference.com/boxscores/201209160pit.htm'},\n",
       "               'Game 15': {'link': 'https://www.pro-football-reference.com/boxscores/201209160sfo.htm'},\n",
       "               'Game 16': {'link': 'https://www.pro-football-reference.com/boxscores/201209170atl.htm'}}}})"
      ]
     },
     "execution_count": 66,
     "metadata": {},
     "output_type": "execute_result"
    }
   ],
   "source": [
    "links_dict"
   ]
  },
  {
   "cell_type": "code",
   "execution_count": 9,
   "metadata": {},
   "outputs": [],
   "source": [
    "test_stats = stats_dict\n",
    "test_links = links_dict\n",
    "# test_stats['2011']['Week 1'][ 'Game '+ str( 0+1 ) ].update( {'link': 'google.com'} )"
   ]
  },
  {
   "cell_type": "code",
   "execution_count": null,
   "metadata": {},
   "outputs": [],
   "source": []
  },
  {
   "cell_type": "code",
   "execution_count": null,
   "metadata": {},
   "outputs": [],
   "source": []
  },
  {
   "cell_type": "code",
   "execution_count": null,
   "metadata": {},
   "outputs": [],
   "source": []
  },
  {
   "cell_type": "code",
   "execution_count": null,
   "metadata": {},
   "outputs": [],
   "source": []
  },
  {
   "cell_type": "code",
   "execution_count": null,
   "metadata": {},
   "outputs": [],
   "source": []
  },
  {
   "cell_type": "code",
   "execution_count": null,
   "metadata": {},
   "outputs": [],
   "source": []
  },
  {
   "cell_type": "code",
   "execution_count": null,
   "metadata": {},
   "outputs": [],
   "source": []
  },
  {
   "cell_type": "code",
   "execution_count": null,
   "metadata": {},
   "outputs": [],
   "source": []
  },
  {
   "cell_type": "code",
   "execution_count": null,
   "metadata": {},
   "outputs": [],
   "source": []
  },
  {
   "cell_type": "code",
   "execution_count": null,
   "metadata": {},
   "outputs": [],
   "source": []
  },
  {
   "cell_type": "code",
   "execution_count": null,
   "metadata": {},
   "outputs": [],
   "source": []
  },
  {
   "cell_type": "code",
   "execution_count": null,
   "metadata": {},
   "outputs": [],
   "source": []
  },
  {
   "cell_type": "code",
   "execution_count": 79,
   "metadata": {},
   "outputs": [],
   "source": [
    "webScrpr.opn_webPg('https://www.pro-football-reference.com/boxscores/201209160car.htm')"
   ]
  },
  {
   "cell_type": "code",
   "execution_count": 81,
   "metadata": {},
   "outputs": [],
   "source": [
    "imp.reload( scrp )\n",
    "webScrpr = scrp.WebScraper()\n",
    "webScrpr.opn_webPg('https://www.pro-football-reference.com/boxscores/201209160car.htm')"
   ]
  },
  {
   "cell_type": "code",
   "execution_count": 16,
   "metadata": {},
   "outputs": [],
   "source": [
    " webScrpr.quit()"
   ]
  },
  {
   "cell_type": "code",
   "execution_count": null,
   "metadata": {},
   "outputs": [],
   "source": []
  },
  {
   "cell_type": "markdown",
   "metadata": {},
   "source": [
    "#  %%%%% SCRATCH %%%%%%%"
   ]
  },
  {
   "cell_type": "code",
   "execution_count": null,
   "metadata": {},
   "outputs": [],
   "source": [
    "driver = webdriver.Chrome()\n",
    "\n",
    "# use nested for loop to loop through games\n",
    "driver.get( 'https://www.pro-football-reference.com/years/{}/week_{}.htm'.format( 2014, 1 ) )\n",
    "\n",
    "xp_games = driver.find_elements_by_xpath('//*[@id=\"content\"]/div[4]//a[contains(@href,\"boxscores\")]')\n",
    "# links_games[0].send_keys( Keys.RETURN )\n",
    "\n",
    "lst_games = []\n",
    "for xp in xp_games[ :3 ]:\n",
    "    \n",
    "    lst_games.append( xp.get_attribute( 'href' ) )\n",
    "    \n",
    "print( lst_games )\n",
    "    \n",
    "i=0\n",
    "for game in lst_games:\n",
    "    \n",
    "    driver.get( lst_games[ i ] )\n",
    "#     print( lst_games[ i ], ': DONE' )\n",
    "    \n",
    "    i+=1\n",
    "    \n",
    "time.sleep(5)\n",
    "\n",
    "driver.quit()"
   ]
  },
  {
   "cell_type": "code",
   "execution_count": null,
   "metadata": {},
   "outputs": [],
   "source": [
    "import os\n",
    "os.getcwd()"
   ]
  },
  {
   "cell_type": "code",
   "execution_count": null,
   "metadata": {},
   "outputs": [],
   "source": [
    "cfg.SEASON_END"
   ]
  },
  {
   "cell_type": "code",
   "execution_count": null,
   "metadata": {},
   "outputs": [],
   "source": [
    "hlp."
   ]
  },
  {
   "cell_type": "code",
   "execution_count": null,
   "metadata": {
    "scrolled": true
   },
   "outputs": [],
   "source": [
    "# # imp.reload( scrp )\n",
    "# weeks_in_season = webScrpr.text_by_xpath( xp_weekLinks )\n",
    "# weeks_in_season"
   ]
  },
  {
   "cell_type": "code",
   "execution_count": null,
   "metadata": {
    "scrolled": true
   },
   "outputs": [],
   "source": [
    "# # imp.reload( scrp )\n",
    "# bscrs = webScrpr.htmls_by_xpath( xp_boxscores )\n",
    "# bscrs"
   ]
  },
  {
   "cell_type": "code",
   "execution_count": null,
   "metadata": {},
   "outputs": [],
   "source": [
    "l = ['dog', 'cat', 'bird']\n",
    "for k,v in enumerate( l ):\n",
    "    print( k+1, v )"
   ]
  },
  {
   "cell_type": "code",
   "execution_count": null,
   "metadata": {},
   "outputs": [],
   "source": [
    "# imp.reload( scrp )\n",
    "webScrpr.opn_webPg( webPg=cfg_glb.URL_MASTER )"
   ]
  },
  {
   "cell_type": "code",
   "execution_count": null,
   "metadata": {},
   "outputs": [],
   "source": [
    "test_d1 = stats_dict\n",
    "\n",
    "test_d2 = hlp.scrape_data( d=test_d1, driver=webScrpr, xp_k=xp_kGI, xp_v=xp_vGI )\n",
    "\n",
    "test_d2"
   ]
  },
  {
   "cell_type": "code",
   "execution_count": null,
   "metadata": {},
   "outputs": [],
   "source": [
    "hlp.make_tbl_dict( driver=webScrpr, xp_k=xp_kGI, xp_v=xp_vGI )"
   ]
  },
  {
   "cell_type": "code",
   "execution_count": null,
   "metadata": {},
   "outputs": [],
   "source": [
    "any(key.startswith('Game') for key in stats_dict[ 2011 ][ 'Week 1' ])"
   ]
  },
  {
   "cell_type": "code",
   "execution_count": null,
   "metadata": {},
   "outputs": [],
   "source": [
    "for k,v in stats_dict.items():\n",
    "        \n",
    "        if \"Game\" in k:\n",
    "            \n",
    "            print( k )\n",
    "        \n",
    "        else:\n",
    "            \n",
    "            print('no')"
   ]
  },
  {
   "cell_type": "code",
   "execution_count": null,
   "metadata": {},
   "outputs": [],
   "source": [
    "xp_ps_off = '//*[@id=\"player_offense\"]/tbody//tr//th[@data-stat=\"player\"]'\n",
    "xp_ps_def = '//*[@id=\"player_defense\"]/tbody//tr//th[@data-stat=\"player\"]'\n",
    "xp_ps_st = '//*[@id=\"returns\" or @id=\"kicking\"]/tbody/tr//th[@data-stat=\"player\"]//a'\n",
    "\n",
    "webScrpr.text_by_xpath( xp_ps_st )"
   ]
  },
  {
   "cell_type": "code",
   "execution_count": null,
   "metadata": {},
   "outputs": [],
   "source": [
    "efg=defaultdict(dict)"
   ]
  },
  {
   "cell_type": "code",
   "execution_count": null,
   "metadata": {},
   "outputs": [],
   "source": [
    "efg"
   ]
  },
  {
   "cell_type": "code",
   "execution_count": 61,
   "metadata": {},
   "outputs": [],
   "source": [
    "weeks_lst_temp = webScrpr.htmls_by_xpath( '//*[@id=\"div_week_games\"]//a' )"
   ]
  },
  {
   "cell_type": "code",
   "execution_count": 62,
   "metadata": {},
   "outputs": [],
   "source": [
    "webScrpr.opn_webPg( weeks_lst_temp[ 0 ] )"
   ]
  },
  {
   "cell_type": "code",
   "execution_count": 66,
   "metadata": {},
   "outputs": [],
   "source": [
    "d_temp = defaultdict( dict )\n",
    "d_temp[ '2011' ] = { 'Week 1': [ 'www.google.com', 'espn.com' ] }"
   ]
  },
  {
   "cell_type": "code",
   "execution_count": 70,
   "metadata": {},
   "outputs": [],
   "source": [
    "d_temp[ '2011' ][ 'Week 2'] = [ 'www.instagram.com', 'facebook.com' ]"
   ]
  },
  {
   "cell_type": "code",
   "execution_count": 71,
   "metadata": {},
   "outputs": [
    {
     "data": {
      "text/plain": [
       "defaultdict(dict,\n",
       "            {'2011': {'Week 1': ['www.google.com', 'espn.com'],\n",
       "              'Week 2': ['www.instagram.com', 'facebook.com']}})"
      ]
     },
     "execution_count": 71,
     "metadata": {},
     "output_type": "execute_result"
    }
   ],
   "source": [
    "d_temp"
   ]
  },
  {
   "cell_type": "code",
   "execution_count": 57,
   "metadata": {},
   "outputs": [
    {
     "data": {
      "text/plain": [
       "'2011'"
      ]
     },
     "execution_count": 57,
     "metadata": {},
     "output_type": "execute_result"
    }
   ],
   "source": [
    "x = temp_sp[0].split('/')\n",
    "[ i for i in x if i in seasons_str ][0]"
   ]
  },
  {
   "cell_type": "markdown",
   "metadata": {},
   "source": [
    "### Dictionary Manipulation"
   ]
  },
  {
   "cell_type": "code",
   "execution_count": null,
   "metadata": {},
   "outputs": [],
   "source": [
    "def build_stats_dict( name_dict, key ):\n",
    "\n",
    "    try:\n",
    "\n",
    "        name_dict[ key ]\n",
    "\n",
    "    except:\n",
    "\n",
    "        name_dict[ key ] = {}    \n",
    "    \n",
    "    return name_dict"
   ]
  },
  {
   "cell_type": "code",
   "execution_count": null,
   "metadata": {},
   "outputs": [],
   "source": [
    "stats_dict={}"
   ]
  },
  {
   "cell_type": "code",
   "execution_count": null,
   "metadata": {},
   "outputs": [],
   "source": [
    "for key in stats_dict:\n",
    "\n",
    "    try: \n",
    "        stats_dict[ key ]\n",
    "\n",
    "    except:\n",
    "\n",
    "        stats_dict[ key ]={}\n",
    "    \n",
    "\n"
   ]
  },
  {
   "cell_type": "code",
   "execution_count": null,
   "metadata": {},
   "outputs": [],
   "source": [
    "stats_dict"
   ]
  },
  {
   "cell_type": "code",
   "execution_count": null,
   "metadata": {
    "scrolled": true
   },
   "outputs": [],
   "source": [
    "stats_dict['2011']= {}"
   ]
  },
  {
   "cell_type": "code",
   "execution_count": null,
   "metadata": {},
   "outputs": [],
   "source": [
    "stats_dict.update( stats_dict['2011']['Week 1']['Game 1']={'PRR': {} } )"
   ]
  },
  {
   "cell_type": "code",
   "execution_count": null,
   "metadata": {},
   "outputs": [],
   "source": [
    "def fun( **lvl_1 ):\n",
    "    \n",
    "    for k,v in lvl_1.items():\n",
    "        \n",
    "        print( '{}'.format( type( v ) ) )\n",
    "        \n",
    "#         yield v\n",
    "    \n",
    "test = fun(season=[1,2,3], weeks=[4,5,6])"
   ]
  },
  {
   "cell_type": "code",
   "execution_count": null,
   "metadata": {},
   "outputs": [],
   "source": [
    "print( len( list ( test ) ) )"
   ]
  },
  {
   "cell_type": "code",
   "execution_count": null,
   "metadata": {},
   "outputs": [],
   "source": [
    "def stats_shell_dict( d, **lvl1_keys ):\t\t\t\t\n",
    "\n",
    "\tif isinstance( d, dict ):\n",
    "\n",
    "\t\tfor k,v in lvl1_keys.items():\n",
    "            \n",
    "            if isinstance( v, list ):\n",
    "                \n",
    "                for key in v:\n",
    "                \n",
    "                    try:\n",
    "                        d[ key ]\n",
    "\n",
    "                    except:\n",
    "                        d[ key ] = {}\n",
    "\n",
    "\t\t\telse:\n",
    "                \n",
    "                try: \n",
    "                    d[ v ]\n",
    "                \n",
    "                except:\n",
    "                    d[ v ] = {}\n",
    "\n",
    "        return d\n",
    "\n",
    "\telse: \n",
    "\t\td={}\n",
    "\t\tstats_shell_dict( d, **lvl1_keys ) "
   ]
  },
  {
   "cell_type": "code",
   "execution_count": null,
   "metadata": {},
   "outputs": [],
   "source": [
    "d[2019]['Divisional'].keys()"
   ]
  },
  {
   "cell_type": "code",
   "execution_count": null,
   "metadata": {},
   "outputs": [],
   "source": [
    "WEEKS_LBL = {\n",
    "\t 0: 'Week 1',\n",
    "\t 1: 'Week 2',\n",
    "\t 2: 'Week 3',\n",
    "\t 3: 'Week 4',\n",
    "\t 4: 'Week 5',\n",
    "\t 5: 'Week 6',\n",
    "\t 6: 'Week 7',\n",
    "\t 7: 'Week 8',\n",
    "\t 8: 'Week 9',\n",
    "\t 9: 'Week 10',\n",
    "\t 10: 'Week 11',\n",
    "\t 11: 'Week 12',\n",
    "\t 12: 'Week 13',\n",
    "\t 13: 'Week 14',\n",
    "\t 14: 'Week 15',\n",
    "\t 15: 'Week 16',\n",
    "\t 16: 'Week 17',\n",
    "\t 17: 'Wild Card',\n",
    "\t 18: 'Divisional',\n",
    "\t 19: 'Conf Champ',\n",
    "\t 20: 'Super Bowl'\n",
    " }"
   ]
  },
  {
   "cell_type": "code",
   "execution_count": null,
   "metadata": {},
   "outputs": [],
   "source": [
    "from collections import defaultdict\n",
    "\n",
    "def make_stats_shell( d=defaultdict( dict ), **kwargs ):\n",
    "    \n",
    "    for k,v in kwargs.items():\n",
    "        \n",
    "        if isinstance( v, list ):\n",
    "            \n",
    "            for el in v:\n",
    "                \n",
    "                d[ el ]\n",
    "                temp_lst.append( el )\n",
    "    \n",
    "    return d"
   ]
  },
  {
   "cell_type": "code",
   "execution_count": null,
   "metadata": {},
   "outputs": [],
   "source": [
    "d={}\n",
    "\n",
    "def build_stats_shell( d, **kwargs ):\n",
    "    \n",
    "    for k,v in d.items():\n",
    "#         print( 'starting')\n",
    "        if isinstance( v, dict ):\n",
    "            \n",
    "            build_stats_shell( v )\n",
    "    \n",
    "    return d\n",
    "        \n",
    "build_stats_shell( d, seasons=[2011, 2012, 2013] )"
   ]
  },
  {
   "cell_type": "code",
   "execution_count": null,
   "metadata": {},
   "outputs": [],
   "source": [
    "d=defaultdict( dict )\n",
    "for k,v in d.items():\n",
    "    if isinstance( v, dict ):\n",
    "        print('yes')\n",
    "    else: \n",
    "        print('no')"
   ]
  },
  {
   "cell_type": "code",
   "execution_count": null,
   "metadata": {},
   "outputs": [],
   "source": [
    "d.items()"
   ]
  },
  {
   "cell_type": "code",
   "execution_count": null,
   "metadata": {},
   "outputs": [],
   "source": [
    "for k,v in d.items():\n",
    "    \n",
    "    for week in [ 'Week 1', 'Week 2' ]:\n",
    "        \n",
    "        v.setdefault( week, {} )"
   ]
  },
  {
   "cell_type": "code",
   "execution_count": null,
   "metadata": {},
   "outputs": [],
   "source": [
    "d.items()"
   ]
  },
  {
   "cell_type": "code",
   "execution_count": null,
   "metadata": {},
   "outputs": [],
   "source": [
    "d = defaultdict( dict )\n",
    "d['dog']['cat']['bird']"
   ]
  },
  {
   "cell_type": "code",
   "execution_count": 43,
   "metadata": {},
   "outputs": [],
   "source": [
    "import collections"
   ]
  },
  {
   "cell_type": "code",
   "execution_count": 44,
   "metadata": {},
   "outputs": [
    {
     "data": {
      "text/plain": [
       "collections.abc.Mapping"
      ]
     },
     "execution_count": 44,
     "metadata": {},
     "output_type": "execute_result"
    }
   ],
   "source": [
    "dd"
   ]
  },
  {
   "cell_type": "code",
   "execution_count": 71,
   "metadata": {},
   "outputs": [],
   "source": [
    "imp.reload( hlp )\n",
    "\n",
    "test_s = hlp.add_to_nested_key( source_d=stats_dict, info_d=links_dict )"
   ]
  },
  {
   "cell_type": "code",
   "execution_count": 74,
   "metadata": {},
   "outputs": [
    {
     "data": {
      "text/plain": [
       "{'Game 1': {'link': 'https://www.pro-football-reference.com/boxscores/201209130gnb.htm',\n",
       "  'gameInfo': {},\n",
       "  'prr': {},\n",
       "  'def': {},\n",
       "  'st': {},\n",
       "  'prr_adv': {},\n",
       "  'def_adv': {}},\n",
       " 'Game 2': {'link': 'https://www.pro-football-reference.com/boxscores/201209160buf.htm',\n",
       "  'gameInfo': {},\n",
       "  'prr': {},\n",
       "  'def': {},\n",
       "  'st': {},\n",
       "  'prr_adv': {},\n",
       "  'def_adv': {}},\n",
       " 'Game 3': {'link': 'https://www.pro-football-reference.com/boxscores/201209160nwe.htm',\n",
       "  'gameInfo': {},\n",
       "  'prr': {},\n",
       "  'def': {},\n",
       "  'st': {},\n",
       "  'prr_adv': {},\n",
       "  'def_adv': {}},\n",
       " 'Game 4': {'link': 'https://www.pro-football-reference.com/boxscores/201209160mia.htm',\n",
       "  'gameInfo': {},\n",
       "  'prr': {},\n",
       "  'def': {},\n",
       "  'st': {},\n",
       "  'prr_adv': {},\n",
       "  'def_adv': {}},\n",
       " 'Game 5': {'link': 'https://www.pro-football-reference.com/boxscores/201209160cin.htm',\n",
       "  'gameInfo': {},\n",
       "  'prr': {},\n",
       "  'def': {},\n",
       "  'st': {},\n",
       "  'prr_adv': {},\n",
       "  'def_adv': {}},\n",
       " 'Game 6': {'link': 'https://www.pro-football-reference.com/boxscores/201209160car.htm',\n",
       "  'gameInfo': {},\n",
       "  'prr': {},\n",
       "  'def': {},\n",
       "  'st': {},\n",
       "  'prr_adv': {},\n",
       "  'def_adv': {}},\n",
       " 'Game 7': {'link': 'https://www.pro-football-reference.com/boxscores/201209160phi.htm',\n",
       "  'gameInfo': {},\n",
       "  'prr': {},\n",
       "  'def': {},\n",
       "  'st': {},\n",
       "  'prr_adv': {},\n",
       "  'def_adv': {}},\n",
       " 'Game 8': {'link': 'https://www.pro-football-reference.com/boxscores/201209160nyg.htm',\n",
       "  'gameInfo': {},\n",
       "  'prr': {},\n",
       "  'def': {},\n",
       "  'st': {},\n",
       "  'prr_adv': {},\n",
       "  'def_adv': {}},\n",
       " 'Game 9': {'link': 'https://www.pro-football-reference.com/boxscores/201209160jax.htm',\n",
       "  'gameInfo': {},\n",
       "  'prr': {},\n",
       "  'def': {},\n",
       "  'st': {},\n",
       "  'prr_adv': {},\n",
       "  'def_adv': {}},\n",
       " 'Game 10': {'link': 'https://www.pro-football-reference.com/boxscores/201209160clt.htm',\n",
       "  'gameInfo': {},\n",
       "  'prr': {},\n",
       "  'def': {},\n",
       "  'st': {},\n",
       "  'prr_adv': {},\n",
       "  'def_adv': {}},\n",
       " 'Game 11': {'link': 'https://www.pro-football-reference.com/boxscores/201209160ram.htm',\n",
       "  'gameInfo': {},\n",
       "  'prr': {},\n",
       "  'def': {},\n",
       "  'st': {},\n",
       "  'prr_adv': {},\n",
       "  'def_adv': {}},\n",
       " 'Game 12': {'link': 'https://www.pro-football-reference.com/boxscores/201209160sea.htm',\n",
       "  'gameInfo': {},\n",
       "  'prr': {},\n",
       "  'def': {},\n",
       "  'st': {},\n",
       "  'prr_adv': {},\n",
       "  'def_adv': {}},\n",
       " 'Game 13': {'link': 'https://www.pro-football-reference.com/boxscores/201209160sdg.htm',\n",
       "  'gameInfo': {},\n",
       "  'prr': {},\n",
       "  'def': {},\n",
       "  'st': {},\n",
       "  'prr_adv': {},\n",
       "  'def_adv': {}},\n",
       " 'Game 14': {'link': 'https://www.pro-football-reference.com/boxscores/201209160pit.htm',\n",
       "  'gameInfo': {},\n",
       "  'prr': {},\n",
       "  'def': {},\n",
       "  'st': {},\n",
       "  'prr_adv': {},\n",
       "  'def_adv': {}},\n",
       " 'Game 15': {'link': 'https://www.pro-football-reference.com/boxscores/201209160sfo.htm',\n",
       "  'gameInfo': {},\n",
       "  'prr': {},\n",
       "  'def': {},\n",
       "  'st': {},\n",
       "  'prr_adv': {},\n",
       "  'def_adv': {}},\n",
       " 'Game 16': {'link': 'https://www.pro-football-reference.com/boxscores/201209170atl.htm',\n",
       "  'gameInfo': {},\n",
       "  'prr': {},\n",
       "  'def': {},\n",
       "  'st': {},\n",
       "  'prr_adv': {},\n",
       "  'def_adv': {}}}"
      ]
     },
     "execution_count": 74,
     "metadata": {},
     "output_type": "execute_result"
    }
   ],
   "source": [
    "test_s[ '2012' ][ 'Week 2' ]"
   ]
  },
  {
   "cell_type": "code",
   "execution_count": null,
   "metadata": {},
   "outputs": [],
   "source": []
  },
  {
   "cell_type": "code",
   "execution_count": 62,
   "metadata": {},
   "outputs": [
    {
     "data": {
      "text/plain": [
       "{'link': 'www.espn.com'}"
      ]
     },
     "execution_count": 62,
     "metadata": {},
     "output_type": "execute_result"
    }
   ],
   "source": [
    "d = defaultdict( dict )\n",
    "d[ '2011' ]\n",
    "d[ '2011' ].setdefault( 'Week 1', {} )\n",
    "d[ '2011' ][ 'Week 1' ].setdefault('Game 1', { 'link': 'www.google.com' } )\n",
    "d[ '2011' ][ 'Week 1' ].setdefault('Game 2', { 'link': 'www.espn.com' } )"
   ]
  },
  {
   "cell_type": "code",
   "execution_count": 63,
   "metadata": {},
   "outputs": [
    {
     "data": {
      "text/plain": [
       "defaultdict(dict,\n",
       "            {'2011': {'Week 1': {'Game 1': {'link': 'www.google.com'},\n",
       "               'Game 2': {'link': 'www.espn.com'}}}})"
      ]
     },
     "execution_count": 63,
     "metadata": {},
     "output_type": "execute_result"
    }
   ],
   "source": [
    "d"
   ]
  },
  {
   "cell_type": "code",
   "execution_count": null,
   "metadata": {},
   "outputs": [],
   "source": []
  }
 ],
 "metadata": {
  "kernelspec": {
   "display_name": "Python 3",
   "language": "python",
   "name": "python3"
  },
  "language_info": {
   "codemirror_mode": {
    "name": "ipython",
    "version": 3
   },
   "file_extension": ".py",
   "mimetype": "text/x-python",
   "name": "python",
   "nbconvert_exporter": "python",
   "pygments_lexer": "ipython3",
   "version": "3.7.6"
  }
 },
 "nbformat": 4,
 "nbformat_minor": 4
}
